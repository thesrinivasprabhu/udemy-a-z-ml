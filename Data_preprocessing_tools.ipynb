{
  "nbformat": 4,
  "nbformat_minor": 0,
  "metadata": {
    "colab": {
      "name": "Data preprocessing tools.ipynb",
      "provenance": [],
      "collapsed_sections": [],
      "mount_file_id": "1CUX6p5nboGDs-GVSj_d-I_LkEPxdYeCe",
      "authorship_tag": "ABX9TyMfj6JFGf3fh/atHmewiZBj",
      "include_colab_link": true
    },
    "kernelspec": {
      "name": "python3",
      "display_name": "Python 3"
    },
    "language_info": {
      "name": "python"
    }
  },
  "cells": [
    {
      "cell_type": "markdown",
      "metadata": {
        "id": "view-in-github",
        "colab_type": "text"
      },
      "source": [
        "<a href=\"https://colab.research.google.com/github/thesrinivasprabhu/udemy-a-z-ml/blob/main/Data_preprocessing_tools.ipynb\" target=\"_parent\"><img src=\"https://colab.research.google.com/assets/colab-badge.svg\" alt=\"Open In Colab\"/></a>"
      ]
    },
    {
      "cell_type": "code",
      "execution_count": 5,
      "metadata": {
        "id": "_xmwjbnWOeG7"
      },
      "outputs": [],
      "source": [
        ""
      ]
    },
    {
      "cell_type": "markdown",
      "source": [
        "IMPORT THE LIBRARIES"
      ],
      "metadata": {
        "id": "vxk79kglPCM4"
      }
    },
    {
      "cell_type": "code",
      "source": [
        "import numpy as np #arrays\n",
        "import matplotlib.pyplot as plt #plots\n",
        "import pandas as pd #import thr datasets and create matrix for preprocessing"
      ],
      "metadata": {
        "id": "AdFvPf_5PIQ7"
      },
      "execution_count": 6,
      "outputs": []
    },
    {
      "cell_type": "markdown",
      "source": [
        "IMPORT THE DATASET"
      ],
      "metadata": {
        "id": "sT2U0rUnQB50"
      }
    },
    {
      "cell_type": "code",
      "source": [
        "dataset = pd.read_csv('Data.csv')"
      ],
      "metadata": {
        "id": "G8ugrMmjoYCs"
      },
      "execution_count": 7,
      "outputs": []
    },
    {
      "cell_type": "markdown",
      "source": [
        "FEATURES - independent variable having information\n",
        "\n",
        "DEPENDENT VARIABLE - prediction to be done on the basis of independent variable\n"
      ],
      "metadata": {
        "id": "1zE7KXlWpXf_"
      }
    },
    {
      "cell_type": "code",
      "source": [
        "x = dataset.iloc[:,:-1].values     #iloc-locate indexes,\n",
        "                                   #:-if lower bound nor upper bound is specified it will take the entire row\n",
        "                                   #:-1. upper bound not specified, indexing starts from 0.-1 refers to the last col\n",
        "                                   #range includes lower bound but EXCLUDES upper bound\n",
        "                                   #all columns taken except -1\n",
        "\n",
        "\n",
        "y=dataset.iloc[:,-1].values"
      ],
      "metadata": {
        "id": "xQG3xdytQG-h"
      },
      "execution_count": 8,
      "outputs": []
    },
    {
      "cell_type": "code",
      "source": [
        "print(x)"
      ],
      "metadata": {
        "id": "hPRtFV0_r5cD",
        "colab": {
          "base_uri": "https://localhost:8080/"
        },
        "outputId": "6a3d2819-b7ba-497a-e7f7-a110890b4722"
      },
      "execution_count": 9,
      "outputs": [
        {
          "output_type": "stream",
          "name": "stdout",
          "text": [
            "[['France' 44.0 72000.0]\n",
            " ['Spain' 27.0 48000.0]\n",
            " ['Germany' 30.0 54000.0]\n",
            " ['Spain' 38.0 61000.0]\n",
            " ['Germany' 40.0 nan]\n",
            " ['France' 35.0 58000.0]\n",
            " ['Spain' nan 52000.0]\n",
            " ['France' 48.0 79000.0]\n",
            " ['Germany' 50.0 83000.0]\n",
            " ['France' 37.0 67000.0]]\n"
          ]
        }
      ]
    },
    {
      "cell_type": "code",
      "source": [
        "print(y)"
      ],
      "metadata": {
        "id": "w-dXnf3sr_pG",
        "colab": {
          "base_uri": "https://localhost:8080/"
        },
        "outputId": "356db4ef-e1a2-4d65-83c0-585c05b2de35"
      },
      "execution_count": 10,
      "outputs": [
        {
          "output_type": "stream",
          "name": "stdout",
          "text": [
            "['No' 'Yes' 'No' 'No' 'Yes' 'Yes' 'No' 'Yes' 'No' 'Yes']\n"
          ]
        }
      ]
    },
    {
      "cell_type": "markdown",
      "source": [
        "MISSING DATA HANDLING\n",
        "\n",
        "1. If you have a large dataset you can ignore the data.\n",
        "2. Replace the missing data by all the values in the columns.\n",
        "\n"
      ],
      "metadata": {
        "id": "e6Eo5cdVeUD4"
      }
    },
    {
      "cell_type": "code",
      "source": [
        "from sklearn.impute import SimpleImputer\n",
        "imputer = SimpleImputer(missing_values = np.nan,strategy = \"mean\")\n",
        "imputer.fit(x[:,1:3])\n",
        "x[:,1:3] = imputer.transform(x[:,1:3])"
      ],
      "metadata": {
        "id": "PbBSZo5xsDYf"
      },
      "execution_count": 11,
      "outputs": []
    },
    {
      "cell_type": "code",
      "source": [
        "print(x)"
      ],
      "metadata": {
        "id": "bi_iw1fKfT-h",
        "colab": {
          "base_uri": "https://localhost:8080/"
        },
        "outputId": "47573e4f-ca15-4a41-e332-c5c41efef609"
      },
      "execution_count": 12,
      "outputs": [
        {
          "output_type": "stream",
          "name": "stdout",
          "text": [
            "[['France' 44.0 72000.0]\n",
            " ['Spain' 27.0 48000.0]\n",
            " ['Germany' 30.0 54000.0]\n",
            " ['Spain' 38.0 61000.0]\n",
            " ['Germany' 40.0 63777.77777777778]\n",
            " ['France' 35.0 58000.0]\n",
            " ['Spain' 38.77777777777778 52000.0]\n",
            " ['France' 48.0 79000.0]\n",
            " ['Germany' 50.0 83000.0]\n",
            " ['France' 37.0 67000.0]]\n"
          ]
        }
      ]
    },
    {
      "cell_type": "markdown",
      "source": [
        "ENCODE CATEGORICAL DATA\n",
        "\n",
        "Data is converted into categories as there is no relation between the letters. we can give\n",
        "Spain-0, Germany-1 France-2\n",
        "but the future ml model may deduce that there is some numerical order between the two.\n",
        "\n",
        "There fore we go to ONEHOTENCODING.\n",
        "We divide the contry columns into 3 different columns with 1- if that contry's name is there and 0 if not\n"
      ],
      "metadata": {
        "id": "_ukSLI94hcsK"
      }
    },
    {
      "cell_type": "markdown",
      "source": [
        "a. Encoding the Independent variable"
      ],
      "metadata": {
        "id": "SvYyYzLFjYPm"
      }
    },
    {
      "cell_type": "code",
      "source": [
        "from sklearn.compose import ColumnTransformer\n",
        "from sklearn.preprocessing import OneHotEncoder\n",
        "ct = ColumnTransformer(transformers=[('encoder',OneHotEncoder(), [0])],remainder='passthrough')\n",
        "x = ct.fit_transform(x)"
      ],
      "metadata": {
        "id": "21z60-cThTGN"
      },
      "execution_count": 13,
      "outputs": []
    },
    {
      "cell_type": "code",
      "source": [
        "print(x)"
      ],
      "metadata": {
        "id": "JvJfeW1Ej35e",
        "colab": {
          "base_uri": "https://localhost:8080/"
        },
        "outputId": "28d1f1f8-3dbf-4e2a-b95c-c05ca7620c92"
      },
      "execution_count": 14,
      "outputs": [
        {
          "output_type": "stream",
          "name": "stdout",
          "text": [
            "[[1.0 0.0 0.0 44.0 72000.0]\n",
            " [0.0 0.0 1.0 27.0 48000.0]\n",
            " [0.0 1.0 0.0 30.0 54000.0]\n",
            " [0.0 0.0 1.0 38.0 61000.0]\n",
            " [0.0 1.0 0.0 40.0 63777.77777777778]\n",
            " [1.0 0.0 0.0 35.0 58000.0]\n",
            " [0.0 0.0 1.0 38.77777777777778 52000.0]\n",
            " [1.0 0.0 0.0 48.0 79000.0]\n",
            " [0.0 1.0 0.0 50.0 83000.0]\n",
            " [1.0 0.0 0.0 37.0 67000.0]]\n"
          ]
        }
      ]
    },
    {
      "cell_type": "markdown",
      "source": [
        "b. Encoding the dependent variable"
      ],
      "metadata": {
        "id": "OKCaO-K2GuRi"
      }
    },
    {
      "cell_type": "code",
      "source": [
        "from sklearn.preprocessing import LabelEncoder\n",
        "l = LabelEncoder()\n",
        "y = l.fit_transform(y)\n",
        "print(y)"
      ],
      "metadata": {
        "id": "kuy2aeGfGycy",
        "colab": {
          "base_uri": "https://localhost:8080/"
        },
        "outputId": "f11b3eb7-251f-40c2-e872-09067610deef"
      },
      "execution_count": 15,
      "outputs": [
        {
          "output_type": "stream",
          "name": "stdout",
          "text": [
            "[0 1 0 0 1 1 0 1 0 1]\n"
          ]
        }
      ]
    },
    {
      "cell_type": "markdown",
      "source": [
        "SPLITTING THE DATA INTO TEST AND TRAIN SET"
      ],
      "metadata": {
        "id": "8RA5GFyYHhcV"
      }
    },
    {
      "cell_type": "code",
      "source": [
        "from sklearn.model_selection import train_test_split\n",
        "Xtrain,Xtest,Ytrain,Ytest = train_test_split(x,y,test_size=0.2,random_state=1)"
      ],
      "metadata": {
        "id": "yB1CdQoJIgeK"
      },
      "execution_count": 16,
      "outputs": []
    },
    {
      "cell_type": "code",
      "source": [
        "print(Xtrain)"
      ],
      "metadata": {
        "id": "EFsgWfjPJ-ih",
        "colab": {
          "base_uri": "https://localhost:8080/"
        },
        "outputId": "edfbdcf7-f967-4875-da1d-cb477cd0f45a"
      },
      "execution_count": 17,
      "outputs": [
        {
          "output_type": "stream",
          "name": "stdout",
          "text": [
            "[[0.0 0.0 1.0 38.77777777777778 52000.0]\n",
            " [0.0 1.0 0.0 40.0 63777.77777777778]\n",
            " [1.0 0.0 0.0 44.0 72000.0]\n",
            " [0.0 0.0 1.0 38.0 61000.0]\n",
            " [0.0 0.0 1.0 27.0 48000.0]\n",
            " [1.0 0.0 0.0 48.0 79000.0]\n",
            " [0.0 1.0 0.0 50.0 83000.0]\n",
            " [1.0 0.0 0.0 35.0 58000.0]]\n"
          ]
        }
      ]
    },
    {
      "cell_type": "code",
      "source": [
        "print(Xtest)"
      ],
      "metadata": {
        "id": "xPfO5hR4J-cc",
        "colab": {
          "base_uri": "https://localhost:8080/"
        },
        "outputId": "50506c27-3e2f-458a-85e9-90c8ec172a88"
      },
      "execution_count": 18,
      "outputs": [
        {
          "output_type": "stream",
          "name": "stdout",
          "text": [
            "[[0.0 1.0 0.0 30.0 54000.0]\n",
            " [1.0 0.0 0.0 37.0 67000.0]]\n"
          ]
        }
      ]
    },
    {
      "cell_type": "code",
      "source": [
        "print(Ytest)"
      ],
      "metadata": {
        "id": "2rin6WAwJ-Uy",
        "colab": {
          "base_uri": "https://localhost:8080/"
        },
        "outputId": "770bb4a8-7631-4d5a-9fe9-d182743edc76"
      },
      "execution_count": 19,
      "outputs": [
        {
          "output_type": "stream",
          "name": "stdout",
          "text": [
            "[0 1]\n"
          ]
        }
      ]
    },
    {
      "cell_type": "code",
      "source": [
        "print(Ytrain)"
      ],
      "metadata": {
        "id": "MS1UANKlJ-Nc",
        "colab": {
          "base_uri": "https://localhost:8080/"
        },
        "outputId": "626f8fa5-24b9-48c4-f450-5417e66602bc"
      },
      "execution_count": 20,
      "outputs": [
        {
          "output_type": "stream",
          "name": "stdout",
          "text": [
            "[0 1 0 0 1 1 0 1]\n"
          ]
        }
      ]
    },
    {
      "cell_type": "markdown",
      "source": [
        "FEATURE SCALING"
      ],
      "metadata": {
        "id": "s_7iBqFSHpyj"
      }
    },
    {
      "cell_type": "markdown",
      "source": [
        "NOTE: Feature scaling is done after splitting the data as the test set is considered to be the new values only for testing. If feature scaling is done before than there will bw information leakage from the test set"
      ],
      "metadata": {
        "id": "Aid-hICnIIQY"
      }
    },
    {
      "cell_type": "markdown",
      "source": [
        "FEARURE SCALING\n",
        "\n",
        "1. STANDARDIZTION\n",
        "\n",
        "2. NORMALIZATION\n",
        "\n",
        "![Screenshot from 2022-02-28 10-34-56.png](data:image/png;base64,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)"
      ],
      "metadata": {
        "id": "4KfX93YGvGFP"
      }
    },
    {
      "cell_type": "markdown",
      "source": [
        "NORMALIZTION is recommended when you have normal distribution on all your features\n",
        "\n",
        "STANDARDIZATION works fine all the time"
      ],
      "metadata": {
        "id": "CabMSm3Tvddg"
      }
    },
    {
      "cell_type": "markdown",
      "source": [
        "therefore it is better to go for standardization as it will do a better feature scaling and improve the training process"
      ],
      "metadata": {
        "id": "F6KDlY0uv1Yo"
      }
    },
    {
      "cell_type": "markdown",
      "source": [
        "CAUTION: The mean is the mean of xtrain only. xtest must be regarded as complete set of new data inorder to test the model."
      ],
      "metadata": {
        "id": "OXVW1IWnwPc7"
      }
    },
    {
      "cell_type": "markdown",
      "source": [
        "DO WE HAVE TO APPLY FEATURE SCALING (ie STANDARDIZATION) TO THE DUMMY VARIABLES?\n",
        "\n",
        "NO. THE GOAL OF STANDARDIZATION IS TO HAVE ALL THE FEATURES IN THE SAME RANGE.You will lose the information of which country corresponds to the observation."
      ],
      "metadata": {
        "id": "cs68xjoIxKN0"
      }
    },
    {
      "cell_type": "code",
      "source": [
        "from sklearn.preprocessing import StandardScaler\n",
        "sc = StandardScaler()\n",
        "Xtrain[:,3:] = sc.fit_transform(Xtrain[:,3:])\n",
        "Xtest[:,3:] = sc.transform(Xtest[:,3:])\n",
        "\n",
        "print(Xtrain)\n",
        "print(Xtest)\n"
      ],
      "metadata": {
        "id": "f5ew73rJIe6G",
        "colab": {
          "base_uri": "https://localhost:8080/"
        },
        "outputId": "01157711-30c6-459f-9653-f2f3de96ae57"
      },
      "execution_count": 21,
      "outputs": [
        {
          "output_type": "stream",
          "name": "stdout",
          "text": [
            "[[0.0 0.0 1.0 -0.19159184384578545 -1.0781259408412425]\n",
            " [0.0 1.0 0.0 -0.014117293757057777 -0.07013167641635372]\n",
            " [1.0 0.0 0.0 0.566708506533324 0.633562432710455]\n",
            " [0.0 0.0 1.0 -0.30453019390224867 -0.30786617274297867]\n",
            " [0.0 0.0 1.0 -1.9018011447007988 -1.420463615551582]\n",
            " [1.0 0.0 0.0 1.1475343068237058 1.232653363453549]\n",
            " [0.0 1.0 0.0 1.4379472069688968 1.5749910381638885]\n",
            " [1.0 0.0 0.0 -0.7401495441200351 -0.5646194287757332]]\n",
            "[[0.0 1.0 0.0 -1.4661817944830124 -0.9069571034860727]\n",
            " [1.0 0.0 0.0 -0.44973664397484414 0.2056403393225306]]\n"
          ]
        }
      ]
    },
    {
      "cell_type": "markdown",
      "source": [
        ""
      ],
      "metadata": {
        "id": "2Z5rm_lYv0E3"
      }
    }
  ]
}